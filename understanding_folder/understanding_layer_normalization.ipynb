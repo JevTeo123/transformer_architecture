{
 "cells": [
  {
   "cell_type": "code",
   "execution_count": 1,
   "metadata": {},
   "outputs": [],
   "source": [
    "import torch\n",
    "import torch.nn as nn"
   ]
  },
  {
   "cell_type": "code",
   "execution_count": 17,
   "metadata": {},
   "outputs": [
    {
     "data": {
      "text/plain": [
       "tensor([[[ 0.2000, -0.1000,  0.4000],\n",
       "         [ 0.5000,  0.3000, -0.2000],\n",
       "         [-0.3000,  0.8000,  0.6000],\n",
       "         [ 0.1000,  0.0000, -0.5000]],\n",
       "\n",
       "        [[-0.6000,  0.7000,  0.2000],\n",
       "         [ 0.3000, -0.2000,  0.4000],\n",
       "         [ 0.5000, -0.7000,  0.1000],\n",
       "         [-0.1000,  0.4000,  0.3000]]])"
      ]
     },
     "execution_count": 17,
     "metadata": {},
     "output_type": "execute_result"
    }
   ],
   "source": [
    "example_input = torch.tensor([\n",
    "    [[ 0.2, -0.1,  0.4],\n",
    "     [ 0.5,  0.3, -0.2],\n",
    "     [-0.3,  0.8,  0.6],\n",
    "     [ 0.1,  0.0, -0.5]],\n",
    "\n",
    "    [[-0.6,  0.7,  0.2],\n",
    "     [ 0.3, -0.2,  0.4],\n",
    "     [ 0.5, -0.7,  0.1],\n",
    "     [-0.1,  0.4,  0.3]]\n",
    "])\n",
    "example_input"
   ]
  },
  {
   "cell_type": "code",
   "execution_count": 15,
   "metadata": {},
   "outputs": [],
   "source": [
    "alpha =nn.Parameter(torch.ones(1))\n",
    "bias = nn.Parameter(torch.zeros(1))\n",
    "epsilon = 1e-9"
   ]
  },
  {
   "cell_type": "code",
   "execution_count": 11,
   "metadata": {},
   "outputs": [
    {
     "data": {
      "text/plain": [
       "Parameter containing:\n",
       "tensor([1.], requires_grad=True)"
      ]
     },
     "execution_count": 11,
     "metadata": {},
     "output_type": "execute_result"
    }
   ],
   "source": [
    "alpha"
   ]
  },
  {
   "cell_type": "code",
   "execution_count": 14,
   "metadata": {},
   "outputs": [],
   "source": [
    "mean = example_input.mean()\n",
    "std = example_input.std()"
   ]
  },
  {
   "cell_type": "code",
   "execution_count": 16,
   "metadata": {},
   "outputs": [
    {
     "data": {
      "text/plain": [
       "tensor([[[ 0.1759, -0.5691,  0.6726],\n",
       "         [ 0.9209,  0.4242, -0.8174],\n",
       "         [-1.0658,  1.6659,  1.1692],\n",
       "         [-0.0724, -0.3208, -1.5624]],\n",
       "\n",
       "        [[-1.8108,  1.4176,  0.1759],\n",
       "         [ 0.4242, -0.8174,  0.6726],\n",
       "         [ 0.9209, -2.0591, -0.0724],\n",
       "         [-0.5691,  0.6726,  0.4242]]], grad_fn=<AddBackward0>)"
      ]
     },
     "execution_count": 16,
     "metadata": {},
     "output_type": "execute_result"
    }
   ],
   "source": [
    "alpha * (example_input - mean) / (std + epsilon) + bias "
   ]
  },
  {
   "cell_type": "code",
   "execution_count": null,
   "metadata": {},
   "outputs": [],
   "source": []
  }
 ],
 "metadata": {
  "kernelspec": {
   "display_name": "zero_to_gpt",
   "language": "python",
   "name": "python3"
  },
  "language_info": {
   "codemirror_mode": {
    "name": "ipython",
    "version": 3
   },
   "file_extension": ".py",
   "mimetype": "text/x-python",
   "name": "python",
   "nbconvert_exporter": "python",
   "pygments_lexer": "ipython3",
   "version": "3.12.3"
  }
 },
 "nbformat": 4,
 "nbformat_minor": 2
}
