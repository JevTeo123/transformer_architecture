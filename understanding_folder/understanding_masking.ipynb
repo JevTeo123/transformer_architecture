{
 "cells": [
  {
   "cell_type": "code",
   "execution_count": 1,
   "metadata": {},
   "outputs": [],
   "source": [
    "import torch"
   ]
  },
  {
   "cell_type": "code",
   "execution_count": 2,
   "metadata": {},
   "outputs": [
    {
     "name": "stdout",
     "output_type": "stream",
     "text": [
      "Input Tensor: \n",
      "tensor([[1, 2, 3, 0, 0],\n",
      "        [4, 5, 6, 7, 8]])\n",
      "Padding mask: \n",
      "tensor([[[[ True,  True,  True, False, False]]],\n",
      "\n",
      "\n",
      "        [[[ True,  True,  True,  True,  True]]]])\n"
     ]
    }
   ],
   "source": [
    "input_sequences = [\n",
    "    [1, 2, 3, 0, 0],\n",
    "    [4, 5, 6, 7, 8]\n",
    "]\n",
    "\n",
    "# Convert to tensor\n",
    "input_tensor = torch.tensor(input_sequences)\n",
    "\n",
    "# Create a padding mask where 1 indicates a valid position and 0 indicates padding\n",
    "padding_mask = (input_tensor != 0).unsqueeze(1).unsqueeze(2)\n",
    "\n",
    "print(\"Input Tensor: \")\n",
    "print(input_tensor)\n",
    "print(\"Padding mask: \")\n",
    "print(padding_mask)"
   ]
  },
  {
   "cell_type": "code",
   "execution_count": null,
   "metadata": {},
   "outputs": [],
   "source": []
  }
 ],
 "metadata": {
  "kernelspec": {
   "display_name": "zero_to_gpt",
   "language": "python",
   "name": "python3"
  },
  "language_info": {
   "codemirror_mode": {
    "name": "ipython",
    "version": 3
   },
   "file_extension": ".py",
   "mimetype": "text/x-python",
   "name": "python",
   "nbconvert_exporter": "python",
   "pygments_lexer": "ipython3",
   "version": "3.12.3"
  }
 },
 "nbformat": 4,
 "nbformat_minor": 2
}
