{
 "cells": [
  {
   "cell_type": "code",
   "execution_count": 1,
   "metadata": {},
   "outputs": [],
   "source": [
    "import torch\n",
    "import torch.nn as nn"
   ]
  },
  {
   "cell_type": "code",
   "execution_count": 6,
   "metadata": {},
   "outputs": [],
   "source": [
    "torch.manual_seed(1234)\n",
    "batch_size = 2\n",
    "seq_length = 4\n",
    "d_model = 8\n",
    "d_ffn = 16\n",
    "dropout = 0.1\n",
    "\n",
    "linear_1 = nn.Linear(d_model, d_ffn)\n",
    "linear_2 = nn.Linear(d_ffn, d_model)\n",
    "dropout = nn.Dropout(dropout)"
   ]
  },
  {
   "cell_type": "code",
   "execution_count": 9,
   "metadata": {},
   "outputs": [
    {
     "name": "stdout",
     "output_type": "stream",
     "text": [
      "Linear(in_features=8, out_features=16, bias=True)\n",
      "Linear(in_features=16, out_features=8, bias=True)\n"
     ]
    }
   ],
   "source": [
    "# First linear layer takes in the original dimension of d_model and expands it into a bigger dimension\n",
    "# Second linear layer takes in the output of the first linear layer as input and outputs back the original dimension of d_model\n",
    "# This helps to capture complex representations and interactions at each position of the sequence\n",
    "print(linear_1)\n",
    "print(linear_2)"
   ]
  },
  {
   "cell_type": "code",
   "execution_count": 10,
   "metadata": {},
   "outputs": [],
   "source": [
    "input_tensor = torch.randn(batch_size, seq_length, d_model)\n",
    "output_tensor = linear_2(dropout(torch.relu(linear_1(input_tensor))))"
   ]
  },
  {
   "cell_type": "code",
   "execution_count": 11,
   "metadata": {},
   "outputs": [
    {
     "name": "stdout",
     "output_type": "stream",
     "text": [
      "Input Tensor: \n",
      "tensor([[[-0.2963, -2.3561,  0.0111, -0.5872, -0.6119,  0.7493, -1.2565,\n",
      "          -1.0455],\n",
      "         [-0.9547,  0.3856,  1.2921,  0.8001,  0.0861, -1.8761,  0.2937,\n",
      "           1.0688],\n",
      "         [-1.0058,  0.3797, -0.2985, -1.3616, -0.3333, -1.2527, -0.9746,\n",
      "          -1.5467],\n",
      "         [ 0.3462, -1.2652, -2.1208,  1.5305, -1.0777, -0.3185,  2.2770,\n",
      "           0.3890]],\n",
      "\n",
      "        [[-1.5684,  1.3443,  0.0372, -0.3598,  0.1032, -1.6268,  0.5729,\n",
      "          -0.6995],\n",
      "         [-2.1433, -0.5419, -0.4255,  1.8125, -1.3636,  0.3067, -1.0327,\n",
      "           1.3824],\n",
      "         [ 0.9280,  2.5353,  0.7432, -0.9266,  1.0827, -1.0121, -0.2642,\n",
      "           0.2560],\n",
      "         [-0.1016, -0.3634,  1.1053, -0.9109, -0.6560, -0.7049, -1.1843,\n",
      "          -0.2645]]])\n",
      "Output Tensor: \n",
      "tensor([[[ 0.4892,  0.3120,  0.1453,  0.2258, -0.3359, -0.8885, -0.5317,\n",
      "           0.3338],\n",
      "         [ 0.4334,  0.4707,  0.0014,  0.5557, -0.1518,  0.1036, -0.1120,\n",
      "          -0.1641],\n",
      "         [ 0.8293,  0.7955, -0.4051,  0.7616, -0.3808, -0.6380, -0.3348,\n",
      "           0.3679],\n",
      "         [ 0.3443, -0.2536,  0.0318,  0.4343, -0.1532, -0.3305, -0.2398,\n",
      "           0.0426]],\n",
      "\n",
      "        [[ 0.7380,  0.4221, -0.2043,  0.8999, -0.2657, -0.2789, -0.4086,\n",
      "           0.0584],\n",
      "         [ 0.4577,  0.4700, -0.1042,  0.3839, -0.2860, -0.2708, -0.6358,\n",
      "           0.0546],\n",
      "         [ 0.5143,  0.5796, -0.0923,  0.6854, -0.5144,  0.4549, -0.0299,\n",
      "           0.1130],\n",
      "         [ 0.5144,  0.8354, -0.3274,  0.3767, -0.3071, -0.4581, -0.0365,\n",
      "           0.4260]]], grad_fn=<ViewBackward0>)\n"
     ]
    }
   ],
   "source": [
    "print(\"Input Tensor: \")\n",
    "print(input_tensor)\n",
    "print(\"Output Tensor: \")\n",
    "print(output_tensor)"
   ]
  },
  {
   "cell_type": "code",
   "execution_count": null,
   "metadata": {},
   "outputs": [],
   "source": []
  }
 ],
 "metadata": {
  "kernelspec": {
   "display_name": "zero_to_gpt",
   "language": "python",
   "name": "python3"
  },
  "language_info": {
   "codemirror_mode": {
    "name": "ipython",
    "version": 3
   },
   "file_extension": ".py",
   "mimetype": "text/x-python",
   "name": "python",
   "nbconvert_exporter": "python",
   "pygments_lexer": "ipython3",
   "version": "3.12.3"
  }
 },
 "nbformat": 4,
 "nbformat_minor": 2
}
